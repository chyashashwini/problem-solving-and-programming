{
 "cells": [
  {
   "cell_type": "markdown",
   "metadata": {},
   "source": [
    "### Binary search algo"
   ]
  },
  {
   "cell_type": "markdown",
   "metadata": {},
   "source": [
    "### Can be applied only on sorted list\n",
    "### Can be applied only on unique list"
   ]
  },
  {
   "cell_type": "code",
   "execution_count": 7,
   "metadata": {},
   "outputs": [
    {
     "name": "stdout",
     "output_type": "stream",
     "text": [
      "Item is not found\n"
     ]
    }
   ],
   "source": [
    "def binarysearch(a,lIndex,rIndex,tarItem):\n",
    "    while lIndex<=rIndex:\n",
    "        mIndex=lIndex+(rIndex-lIndex)//2\n",
    "        if a[mIndex]==tarItem:\n",
    "            return mIndex\n",
    "        if a[mIndex]>tarItem:\n",
    "            rIndex=mIndex-1\n",
    "        else:\n",
    "            lIndex=mIndex+1\n",
    "    return-1\n",
    "list1=[1,4,9,15,25,45,57,88,98]\n",
    "res=binarysearch(list1,0,8,818)\n",
    "if res!=-1:\n",
    "    print(\"Item is found\")\n",
    "else:\n",
    "    print(\"Item is not found\")"
   ]
  },
  {
   "cell_type": "markdown",
   "metadata": {},
   "source": [
    "### Sort algoritms"
   ]
  },
  {
   "cell_type": "markdown",
   "metadata": {},
   "source": [
    "### Bubble sort\n",
    "### Description:it compares the adjacent item,if the first item is greater than second item then it's required to swap the items."
   ]
  },
  {
   "cell_type": "code",
   "execution_count": 9,
   "metadata": {},
   "outputs": [
    {
     "name": "stdout",
     "output_type": "stream",
     "text": [
      "1 3 6 18 19 25 "
     ]
    }
   ],
   "source": [
    "def bubbleSort(a):\n",
    "    for i in range(len(a)-1):\n",
    "        for j in range(len(a)-1):\n",
    "            if a[j]>a[j+1]:\n",
    "                a[j],a[j+1]=a[j+1],a[j]\n",
    "        \n",
    "    for i in range(len(a)):\n",
    "        print(a[i],end=\" \")\n",
    "        \n",
    "list1=[19,1,25,6,18,3]\n",
    "bubbleSort(list1)    "
   ]
  },
  {
   "cell_type": "markdown",
   "metadata": {},
   "source": [
    "### Strings in python\n",
    "### it is a sequence of characters."
   ]
  },
  {
   "cell_type": "code",
   "execution_count": 10,
   "metadata": {},
   "outputs": [
    {
     "name": "stdout",
     "output_type": "stream",
     "text": [
      "Application\n",
      "Application\n",
      "Application Test \n",
      "      working\n",
      "      completed\n",
      "      List\n",
      "      Strings\n",
      "      python\n"
     ]
    }
   ],
   "source": [
    "#creating a string\n",
    "str=\"Application\"\n",
    "print(str)\n",
    "\n",
    "str1='Application'\n",
    "print(str1)\n",
    "\n",
    "str2=\"\"\"Application Test \n",
    "      working\n",
    "      completed\n",
    "      List\n",
    "      Strings\n",
    "      python\"\"\"\n",
    "print(str2)"
   ]
  },
  {
   "cell_type": "code",
   "execution_count": 12,
   "metadata": {},
   "outputs": [
    {
     "name": "stdout",
     "output_type": "stream",
     "text": [
      "Application\n",
      "str[0]= A\n",
      "str[1]= p\n",
      "str[-1]= n\n",
      "str[-3]= i\n",
      "str[1:5]= ppli\n",
      "str[:5]= Appli\n",
      "str[5:-2]= cati\n",
      "str[::-1]= noitacilppA\n"
     ]
    }
   ],
   "source": [
    "str=\"Application\"\n",
    "print(str)\n",
    "print(\"str[0]=\",str[0])\n",
    "print(\"str[1]=\",str[1])\n",
    "print(\"str[-1]=\",str[-1])\n",
    "print(\"str[-3]=\",str[-3])\n",
    "print(\"str[1:5]=\",str[1:5])\n",
    "print(\"str[:5]=\",str[:5])\n",
    "print(\"str[5:-2]=\",str[5:-2])\n",
    "print(\"str[::-1]=\",str[::-1])"
   ]
  },
  {
   "cell_type": "markdown",
   "metadata": {},
   "source": [
    "### palindrome of a string"
   ]
  },
  {
   "cell_type": "code",
   "execution_count": 5,
   "metadata": {},
   "outputs": [
    {
     "name": "stdout",
     "output_type": "stream",
     "text": [
      "False\n",
      "True\n"
     ]
    }
   ],
   "source": [
    "def isPalindrome(s):\n",
    "    if s == s[::-1]:\n",
    "        return True\n",
    "    else:\n",
    "        return False\n",
    "print(isPalindrome(\"Python\"))\n",
    "print(isPalindrome(\"jalaj\"))"
   ]
  },
  {
   "cell_type": "markdown",
   "metadata": {},
   "source": [
    "### Count of digits"
   ]
  },
  {
   "cell_type": "code",
   "execution_count": 11,
   "metadata": {},
   "outputs": [
    {
     "data": {
      "text/plain": [
       "1"
      ]
     },
     "execution_count": 11,
     "metadata": {},
     "output_type": "execute_result"
    }
   ],
   "source": [
    "def countdigits(n):\n",
    "    cnt=0\n",
    "    cnt=cnt+1\n",
    "    return (cnt)\n",
    "countdigits(\"25410\")"
   ]
  },
  {
   "cell_type": "code",
   "execution_count": 12,
   "metadata": {},
   "outputs": [
    {
     "data": {
      "text/plain": [
       "11"
      ]
     },
     "execution_count": 12,
     "metadata": {},
     "output_type": "execute_result"
    }
   ],
   "source": [
    "def countdigits(n):\n",
    "    return len(n)\n",
    "countdigits(\"yashashwini\")   "
   ]
  },
  {
   "cell_type": "code",
   "execution_count": 23,
   "metadata": {},
   "outputs": [
    {
     "name": "stdout",
     "output_type": "stream",
     "text": [
      "0\n"
     ]
    }
   ],
   "source": [
    "def countuppercase(str1):\n",
    "     cnt=0\n",
    "     for i in range(0,len(str1)):\n",
    "        if(('A'<=str1[i])and(str1<='Z')):\n",
    "            cnt=cnt+1\n",
    "        return cnt;\n",
    "print(countuppercase('application'))"
   ]
  },
  {
   "cell_type": "code",
   "execution_count": 25,
   "metadata": {},
   "outputs": [
    {
     "name": "stdout",
     "output_type": "stream",
     "text": [
      "1\n",
      "1\n"
     ]
    }
   ],
   "source": [
    "def countuppercase(str1):\n",
    "    cnt=0\n",
    "    lst=list(str1)\n",
    "    for x in range(len(lst)):\n",
    "        if ord(lst[x])>=65 and ord(lst[x])<=90:\n",
    "            cnt=cnt+1\n",
    "    return cnt\n",
    "\n",
    "print(countuppercase(\"Application\"))\n",
    "print(countuppercase(\"Test\"))"
   ]
  },
  {
   "cell_type": "code",
   "execution_count": 27,
   "metadata": {},
   "outputs": [
    {
     "name": "stdout",
     "output_type": "stream",
     "text": [
      "1 8 8 9 None\n"
     ]
    }
   ],
   "source": [
    "def printdigits(str):\n",
    "    lst=list(str)\n",
    "    for x in range(len(lst)):\n",
    "        if ord(lst[x])>=48 and ord(lst[x])<=57:\n",
    "            print(lst[x],end=\" \")\n",
    "\n",
    "print(printdigits(\"Application1889\"))"
   ]
  },
  {
   "cell_type": "code",
   "execution_count": 2,
   "metadata": {},
   "outputs": [
    {
     "data": {
      "text/plain": [
       "26"
      ]
     },
     "execution_count": 2,
     "metadata": {},
     "output_type": "execute_result"
    }
   ],
   "source": [
    "def sumofDigits(str):\n",
    "    sum=0\n",
    "    lst=list(str)\n",
    "    for x in range(len(str)):\n",
    "        if ord(lst[x])>=48 and ord(lst[x]) <=57:\n",
    "            sum=sum+ord(lst[x])-48\n",
    "        \n",
    "    return sum\n",
    "sumofDigits(\"Application1889\")   "
   ]
  },
  {
   "cell_type": "code",
   "execution_count": 5,
   "metadata": {},
   "outputs": [
    {
     "name": "stdout",
     "output_type": "stream",
     "text": [
      "16\n",
      "10\n"
     ]
    }
   ],
   "source": [
    "def sumonlyevendigits(str):\n",
    "    sum=0\n",
    "    lst=list(str)\n",
    "    for x in range(len(lst)):\n",
    "        if ord(lst[x]) >=48 and ord(lst[x]) <=57:\n",
    "            ac=ord(lst[x])-48\n",
    "            if(ac%2==0):\n",
    "                sum=sum+ac\n",
    "    return sum\n",
    "print(sumonlyevendigits(\"Application1889\"))\n",
    "print(sumonlyevendigits(\"Te1574s69t\"))"
   ]
  },
  {
   "cell_type": "markdown",
   "metadata": {},
   "source": []
  }
 ],
 "metadata": {
  "kernelspec": {
   "display_name": "Python 3",
   "language": "python",
   "name": "python3"
  },
  "language_info": {
   "codemirror_mode": {
    "name": "ipython",
    "version": 3
   },
   "file_extension": ".py",
   "mimetype": "text/x-python",
   "name": "python",
   "nbconvert_exporter": "python",
   "pygments_lexer": "ipython3",
   "version": "3.7.3"
  }
 },
 "nbformat": 4,
 "nbformat_minor": 2
}
