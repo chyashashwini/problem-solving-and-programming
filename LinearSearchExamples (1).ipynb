{
 "cells": [
  {
   "cell_type": "markdown",
   "metadata": {},
   "source": [
    "### example 1"
   ]
  },
  {
   "cell_type": "markdown",
   "metadata": {},
   "source": [
    "### sum of even numbers"
   ]
  },
  {
   "cell_type": "code",
   "execution_count": 6,
   "metadata": {},
   "outputs": [
    {
     "name": "stdout",
     "output_type": "stream",
     "text": [
      "90\n"
     ]
    }
   ],
   "source": [
    "def printEven(n):\n",
    "    cnt=0\n",
    "    sum=0\n",
    "    while(cnt!=n):\n",
    "        if(cnt%2==0):\n",
    "            sum=sum+cnt\n",
    "        cnt=cnt+1\n",
    "    return sum\n",
    "\n",
    "print(printEven(20))"
   ]
  },
  {
   "cell_type": "markdown",
   "metadata": {},
   "source": [
    "### example 2"
   ]
  },
  {
   "cell_type": "markdown",
   "metadata": {},
   "source": [
    "### List of factors of a number "
   ]
  },
  {
   "cell_type": "code",
   "execution_count": 7,
   "metadata": {},
   "outputs": [
    {
     "name": "stdout",
     "output_type": "stream",
     "text": [
      "1 2 3 4 6 "
     ]
    }
   ],
   "source": [
    "def factorsList(n):\n",
    "    i=1\n",
    "    while(i!=n):\n",
    "        if(n%i==0):\n",
    "            print(i,end=\" \")\n",
    "        i=i+1\n",
    "    return\n",
    "\n",
    "factorsList(12)"
   ]
  },
  {
   "cell_type": "markdown",
   "metadata": {},
   "source": [
    "### List in python"
   ]
  },
  {
   "cell_type": "markdown",
   "metadata": {},
   "source": [
    "### Examples of list"
   ]
  },
  {
   "cell_type": "code",
   "execution_count": 9,
   "metadata": {},
   "outputs": [
    {
     "name": "stdout",
     "output_type": "stream",
     "text": [
      "[1, 2, 3, 4, 5]\n",
      "1\n"
     ]
    }
   ],
   "source": [
    "list1=[1,2,3,4,5]\n",
    "#Entire List\n",
    "print(list1)\n",
    "#list[0]\n",
    "print(list1[0])"
   ]
  },
  {
   "cell_type": "code",
   "execution_count": 14,
   "metadata": {},
   "outputs": [
    {
     "name": "stdout",
     "output_type": "stream",
     "text": [
      "Akhil Arvind Anil Akash "
     ]
    }
   ],
   "source": [
    "list2=[\"Akhil\",\"Arvind\",\"Anil\",\"Akash\"]\n",
    "for x in list2:\n",
    "     print(x,end=\" \")"
   ]
  },
  {
   "cell_type": "markdown",
   "metadata": {},
   "source": [
    "### List example with particular index "
   ]
  },
  {
   "cell_type": "code",
   "execution_count": 17,
   "metadata": {},
   "outputs": [
    {
     "name": "stdout",
     "output_type": "stream",
     "text": [
      "1 2 3 4 5 6 7 \n",
      "5\n",
      "[4, 5, 6, 7]\n",
      "[1, 2, 3]\n",
      "[1, 2, 3]\n",
      "[1, 2, 3, 4, 5, 6, 7]\n"
     ]
    }
   ],
   "source": [
    "list1=[1,2,3,4,5,6,7]\n",
    "for x in list1:\n",
    "    print(x,end=\" \")\n",
    "print()\n",
    "print(list1[4])\n",
    "print(list1[3:7])\n",
    "print(list1[0:3])\n",
    "print(list1[:3])\n",
    "print(list1[:7])"
   ]
  },
  {
   "cell_type": "code",
   "execution_count": 27,
   "metadata": {},
   "outputs": [
    {
     "name": "stdout",
     "output_type": "stream",
     "text": [
      "1 2 3 4 5 6 7 8 9 10 \n",
      "[2, 3, 4, 5, 6, 7, 8, 9]\n",
      "[3, 4, 5, 6, 7, 8]\n",
      "[1, 3, 5, 7, 9]\n",
      "[1, 4, 7, 10]\n",
      "[1, 5, 9]\n",
      "[10, 8, 6, 4, 2]\n",
      "10\n",
      "9\n"
     ]
    }
   ],
   "source": [
    "list1=[1,2,3,4,5,6,7,8,9,10]\n",
    "for x in list1:\n",
    "    print(x,end=\" \")\n",
    "    \n",
    "    \n",
    "print()\n",
    "print(list1[1:-1])\n",
    "print(list1[2:-2])\n",
    "print(list1[::2])\n",
    "print(list1[::3])\n",
    "print(list1[::4])\n",
    "print(list1[::-2])\n",
    "print(list1[-1])\n",
    "print(list1[-2])"
   ]
  },
  {
   "cell_type": "code",
   "execution_count": 34,
   "metadata": {},
   "outputs": [
    {
     "name": "stdout",
     "output_type": "stream",
     "text": [
      "['Anil', 'Adarsh', 'Akhil', 1]\n",
      "['Anil', 'Adarsh', 15, 1]\n",
      "['Anil', 'Adarsh', 15]\n",
      "['Anil', 'Gitam', 15]\n",
      "[1, 2, 3]\n",
      "['Anil', 'Gitam', 15, 1, 2, 3]\n"
     ]
    }
   ],
   "source": [
    "list1=[\"Anil\",\"Adarsh\",\"Akhil\",1]\n",
    "print(list1)\n",
    "list1[2]=15\n",
    "print(list1)\n",
    "del list1[3]\n",
    "print(list1)\n",
    "list1[1]=\"Gitam\"\n",
    "print(list1)\n",
    "list2=[1,2,3]\n",
    "print(list2)\n",
    "print(list1+list2)"
   ]
  },
  {
   "cell_type": "code",
   "execution_count": 37,
   "metadata": {},
   "outputs": [
    {
     "name": "stdout",
     "output_type": "stream",
     "text": [
      "[1, 2, 3, 4, 5]\n",
      "[1, 2, 4, 5]\n",
      "4\n",
      "[1, 2, 4, 5, 15, 150, 1, 3, 1]\n",
      "3\n",
      "1\n"
     ]
    }
   ],
   "source": [
    "list1=[1,2,3,4,5]\n",
    "print(list1)\n",
    "del list1[2]\n",
    "print(list1)\n",
    "#list1[4]=15\n",
    "print(len(list1))# Used to find the len of the list\n",
    "list1.append(15)\n",
    "list1.append(150)\n",
    "list1.append(1)\n",
    "list1.append(3)\n",
    "list1.append(1)\n",
    "print(list1)\n",
    "print(list1.count(1))\n",
    "print(list1.count(3))"
   ]
  },
  {
   "cell_type": "code",
   "execution_count": 46,
   "metadata": {},
   "outputs": [
    {
     "name": "stdout",
     "output_type": "stream",
     "text": [
      "['Gitam', 'Python', 'Raptor', 1, 5, 'Python', 'Python']\n",
      "['Gitam', 'Python', 2019, 'Raptor', 1, 5, 'Python', 'Python']\n",
      "['Gitam', 'Python', 2019, 'Raptor', 2020, 1, 5, 'Python', 'Python']\n",
      "['Gitam', 2019, 'Raptor', 2020, 1, 5, 'Python', 'Python']\n",
      "['Gitam', 2019, 'Raptor', 2020, 1, 5, 'Python']\n",
      "['Python', 5, 1, 2020, 'Raptor', 2019, 'Gitam']\n"
     ]
    }
   ],
   "source": [
    "list1=['Gitam','Python','Raptor',1,5,'Python','Python']\n",
    "print(list1)\n",
    "list1.index(\"Python\")\n",
    "list1.index(1)\n",
    "list1.insert(2,2019)\n",
    "print(list1)\n",
    "list1.insert(4,2020)\n",
    "print(list1)\n",
    "list1.remove(\"Python\")\n",
    "print(list1)\n",
    "list1.remove(\"Python\")\n",
    "print(list1)\n",
    "\n",
    "list1.reverse()\n",
    "print(list1)"
   ]
  },
  {
   "cell_type": "markdown",
   "metadata": {},
   "source": [
    "### linear search"
   ]
  },
  {
   "cell_type": "markdown",
   "metadata": {},
   "source": [
    "### Example 1"
   ]
  },
  {
   "cell_type": "code",
   "execution_count": 1,
   "metadata": {},
   "outputs": [
    {
     "name": "stdout",
     "output_type": "stream",
     "text": [
      "target item found\n",
      "target item not found\n"
     ]
    }
   ],
   "source": [
    "def LinearSearch(a,tarItem):\n",
    "    flag=0\n",
    "    for i in range(len(a)):\n",
    "        if a[i]==tarItem:\n",
    "            flag=1\n",
    "            break\n",
    "    if (flag!=0):\n",
    "            print(\"target item found\")\n",
    "    else:\n",
    "             print(\"target item not found\")\n",
    "a=[16,2,12,6,9,7,61]\n",
    "LinearSearch(a,61)\n",
    "LinearSearch(a,6199)"
   ]
  },
  {
   "cell_type": "markdown",
   "metadata": {},
   "source": [
    "### Example 2"
   ]
  },
  {
   "cell_type": "code",
   "execution_count": 2,
   "metadata": {},
   "outputs": [
    {
     "name": "stdout",
     "output_type": "stream",
     "text": [
      "2\n"
     ]
    }
   ],
   "source": [
    "def LinearSearchDuplicate(a,tarItem):\n",
    "    flag=0\n",
    "    for i in range(len(a)):\n",
    "        if a[i]==tarItem:\n",
    "            flag=flag+1\n",
    "    print(flag)\n",
    "            \n",
    "    \n",
    "a=[9,1,6,1,5,9,15,16]\n",
    "LinearSearchDuplicate(a,9)"
   ]
  },
  {
   "cell_type": "markdown",
   "metadata": {},
   "source": [
    "### Example 3"
   ]
  },
  {
   "cell_type": "code",
   "execution_count": 8,
   "metadata": {},
   "outputs": [
    {
     "name": "stdout",
     "output_type": "stream",
     "text": [
      "1 4 7 "
     ]
    }
   ],
   "source": [
    "def linearExample1(a,tarItem):\n",
    "    for i in range(len(a)):\n",
    "        if a[i]==tarItem:\n",
    "            print(i,end=\" \")\n",
    "    \n",
    "a=[1,5,9,6,5,15,12,5]\n",
    "linearExample1(a,5)"
   ]
  },
  {
   "cell_type": "markdown",
   "metadata": {},
   "source": [
    "### Example 4"
   ]
  },
  {
   "cell_type": "code",
   "execution_count": 16,
   "metadata": {},
   "outputs": [
    {
     "name": "stdout",
     "output_type": "stream",
     "text": [
      "! !  ! ! ! ! !  ! ! ! ! ! ! ! !  "
     ]
    }
   ],
   "source": [
    "def linearExample2(a,tarItem):\n",
    "    for i in range(len(a)):\n",
    "        if a[i]==tarItem:\n",
    "            j=0\n",
    "            while j!=i+1:\n",
    "                print(\"!\",end=\" \")\n",
    "                j=j+1\n",
    "            print(end=\" \")\n",
    "\n",
    "    \n",
    "\n",
    "a=[1,5,9,6,5,15,12,5]\n",
    "linearExample2(a,5)"
   ]
  },
  {
   "cell_type": "markdown",
   "metadata": {},
   "source": [
    "### Example 5"
   ]
  },
  {
   "cell_type": "code",
   "execution_count": 20,
   "metadata": {},
   "outputs": [
    {
     "name": "stdout",
     "output_type": "stream",
     "text": [
      "1 3 8 15 5 "
     ]
    }
   ],
   "source": [
    "def linearFormattedoutput(a):\n",
    "    for i in range(len(a)):\n",
    "        if i==0 or i==(len(a)-1):\n",
    "            print(a[i],end=\" \")\n",
    "        else:\n",
    "                print(a[i-1]*a[i+1],end=\" \")\n",
    "    \n",
    "    \n",
    "a=[1,2,3,4,5]\n",
    "linearFormattedoutput(a)"
   ]
  },
  {
   "cell_type": "markdown",
   "metadata": {},
   "source": [
    "### Example 6"
   ]
  },
  {
   "cell_type": "code",
   "execution_count": 21,
   "metadata": {},
   "outputs": [
    {
     "name": "stdout",
     "output_type": "stream",
     "text": [
      "60\n"
     ]
    }
   ],
   "source": [
    "def linearExample(a):\n",
    "    sum=0\n",
    "    for i in range(len(a)):\n",
    "        if(a[i]%3==0 and a[i]%5==0):\n",
    "            sum=sum+a[i]\n",
    "            i=i+1\n",
    "    print(sum)\n",
    "    return\n",
    "\n",
    "a=[1,15,45,3,243,646]\n",
    "linearExample(a)"
   ]
  },
  {
   "cell_type": "markdown",
   "metadata": {},
   "source": [
    "### Example 7"
   ]
  },
  {
   "cell_type": "code",
   "execution_count": 24,
   "metadata": {},
   "outputs": [
    {
     "name": "stdout",
     "output_type": "stream",
     "text": [
      "1 9 19 22 "
     ]
    }
   ],
   "source": [
    "def linearFormattedoutput(a):\n",
    "    for i in range(len(a)):\n",
    "        if i==0 or (i==len(a)-1):\n",
    "            print(a[i],end=\" \")\n",
    "        elif a[i-1]%2==0 and a[i+1]%2==0:\n",
    "            print(a[i],end=\" \")            \n",
    "a=[1,6,9,4,16,19,22]\n",
    "linearFormattedoutput(a)"
   ]
  },
  {
   "cell_type": "markdown",
   "metadata": {},
   "source": [
    "### Print the list in reverse list"
   ]
  },
  {
   "cell_type": "markdown",
   "metadata": {},
   "source": [
    "### Example 8"
   ]
  },
  {
   "cell_type": "code",
   "execution_count": 1,
   "metadata": {},
   "outputs": [
    {
     "name": "stdout",
     "output_type": "stream",
     "text": [
      "Enter a number145\n",
      "[1, 4, 5]\n"
     ]
    }
   ],
   "source": [
    "def numberToListConversion(n):\n",
    "    list=[]\n",
    "    while n!=0:\n",
    "        r=n%10\n",
    "        list.append(r)\n",
    "        n=n//10\n",
    "    list.reverse()\n",
    "    return list     \n",
    "n=int(input(\"Enter a number\"))\n",
    "print(numberToListConversion(n))"
   ]
  }
 ],
 "metadata": {
  "kernelspec": {
   "display_name": "Python 3",
   "language": "python",
   "name": "python3"
  },
  "language_info": {
   "codemirror_mode": {
    "name": "ipython",
    "version": 3
   },
   "file_extension": ".py",
   "mimetype": "text/x-python",
   "name": "python",
   "nbconvert_exporter": "python",
   "pygments_lexer": "ipython3",
   "version": "3.7.3"
  }
 },
 "nbformat": 4,
 "nbformat_minor": 2
}
